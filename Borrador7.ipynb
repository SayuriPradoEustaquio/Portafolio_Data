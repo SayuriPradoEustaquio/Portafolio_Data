version https://git-lfs.github.com/spec/v1
oid sha256:26aae41800aab8fc606ba32b15d00739007ba6dc426e97bec1265aa56f14d2ac
size 257610903
